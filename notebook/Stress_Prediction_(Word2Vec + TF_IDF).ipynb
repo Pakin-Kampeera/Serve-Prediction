{
  "nbformat": 4,
  "nbformat_minor": 0,
  "metadata": {
    "colab": {
      "name": "Stress_Prediction_(Word2Vec+TF-IDF).ipynb",
      "provenance": []
    },
    "kernelspec": {
      "display_name": "Python 3",
      "name": "python3"
    },
    "language_info": {
      "name": "python"
    }
  },
  "cells": [
    {
      "cell_type": "markdown",
      "metadata": {
        "id": "YTP6x-7ceN6b"
      },
      "source": [
        "# Stress Analyze"
      ]
    },
    {
      "cell_type": "code",
      "metadata": {
        "id": "Ppf-ibPFeMEk"
      },
      "source": [
        "import os\n",
        "import re\n",
        "import string\n",
        "import pandas as pd\n",
        "import numpy as np\n",
        "import matplotlib.pyplot as plt\n",
        "import matplotlib.colors as mcolors\n",
        "import matplotlib.cm as cm\n",
        "import seaborn as sns\n",
        "from collections import defaultdict\n",
        "\n",
        "import nltk\n",
        "from nltk.corpus import stopwords, RegexpTokenizer\n",
        "from nltk.stem import WordNetLemmatizer\n",
        "from nltk.stem.porter import PorterStemmer\n",
        "from sklearn.manifold import TSNE\n",
        "from sklearn.decomposition import PCA\n",
        "from sklearn.feature_extraction.text import TfidfVectorizer\n",
        "from sklearn.preprocessing import StandardScaler\n",
        "\n",
        "from sklearn.linear_model import LogisticRegression, SGDClassifier\n",
        "from sklearn.naive_bayes import GaussianNB\n",
        "from sklearn.svm import LinearSVC\n",
        "from sklearn.ensemble import RandomForestClassifier, AdaBoostClassifier, GradientBoostingClassifier\n",
        "from sklearn.tree import DecisionTreeClassifier\n",
        "from sklearn.neighbors import KNeighborsClassifier\n",
        "\n",
        "from sklearn.metrics import accuracy_score, confusion_matrix, precision_score, recall_score, f1_score\n",
        "\n",
        "from gensim.models import Word2Vec\n",
        "\n",
        "import warnings\n",
        "warnings.filterwarnings(\"ignore\")\n",
        "\n",
        "import pickle"
      ],
      "execution_count": 1,
      "outputs": []
    },
    {
      "cell_type": "code",
      "metadata": {
        "colab": {
          "base_uri": "https://localhost:8080/"
        },
        "id": "O4snjMWLjtgi",
        "outputId": "984de7cb-2d8c-449b-fefc-555b47336890"
      },
      "source": [
        "nltk.download('stopwords')\n",
        "nltk.download('wordnet')"
      ],
      "execution_count": 2,
      "outputs": [
        {
          "output_type": "stream",
          "name": "stdout",
          "text": [
            "[nltk_data] Downloading package stopwords to /root/nltk_data...\n",
            "[nltk_data]   Package stopwords is already up-to-date!\n",
            "[nltk_data] Downloading package wordnet to /root/nltk_data...\n",
            "[nltk_data]   Package wordnet is already up-to-date!\n"
          ]
        },
        {
          "output_type": "execute_result",
          "data": {
            "text/plain": [
              "True"
            ]
          },
          "metadata": {},
          "execution_count": 2
        }
      ]
    },
    {
      "cell_type": "markdown",
      "metadata": {
        "id": "D19zwgZUeRaL"
      },
      "source": [
        "## Data Preprocessing\n",
        "- Tokenization & Remove punctuation.\n",
        "- Removal of commonly used word (stopword).\n",
        "- Stemming (Normalization).\n",
        "- Lammatization (Normalization)."
      ]
    },
    {
      "cell_type": "code",
      "metadata": {
        "colab": {
          "base_uri": "https://localhost:8080/"
        },
        "id": "CwqiykIPeWHT",
        "outputId": "f14478f1-c9c7-4f20-df7d-b241eaa6e33e"
      },
      "source": [
        "from google.colab import drive\n",
        "drive.mount('/content/drive')"
      ],
      "execution_count": 3,
      "outputs": [
        {
          "output_type": "stream",
          "name": "stdout",
          "text": [
            "Drive already mounted at /content/drive; to attempt to forcibly remount, call drive.mount(\"/content/drive\", force_remount=True).\n"
          ]
        }
      ]
    },
    {
      "cell_type": "code",
      "metadata": {
        "id": "r_BHoLlie5M1"
      },
      "source": [
        "path = '/content/drive/MyDrive/Colab Notebooks/Dataset/'\n",
        "train = pd.read_csv(f'{path}dreaddit-train.csv', encoding = 'ISO-8859-1')\n",
        "test = pd.read_csv(f'{path}dreaddit-test.csv', encoding = 'ISO-8859-1')"
      ],
      "execution_count": 4,
      "outputs": []
    },
    {
      "cell_type": "markdown",
      "metadata": {
        "id": "h3q_vNlDhHRl"
      },
      "source": [
        "###Tokenization & Remove punctuation"
      ]
    },
    {
      "cell_type": "code",
      "metadata": {
        "id": "2TDxw0nCe9O-"
      },
      "source": [
        "# Regex\n",
        "tokenizer = RegexpTokenizer(r'[a-zA-Z]{2,}')\n",
        "train['processed_text'] = train['text'].apply(lambda x: tokenizer.tokenize(x.lower()))\n",
        "test['processed_text'] = test['text'].apply(lambda x: tokenizer.tokenize(x.lower()))"
      ],
      "execution_count": 5,
      "outputs": []
    },
    {
      "cell_type": "markdown",
      "metadata": {
        "id": "o4dEmF6sg9SQ"
      },
      "source": [
        "###Remove Stopwords"
      ]
    },
    {
      "cell_type": "code",
      "metadata": {
        "id": "NK2TQ9OOhA7Q"
      },
      "source": [
        "def remove_stopwords(text):\n",
        "  words = [w for w in text if w not in stopwords.words('english')]\n",
        "  return words\n",
        "\n",
        "train['processed_text'] = train['processed_text'].apply(lambda x: remove_stopwords(x))\n",
        "test['processed_text'] = test['processed_text'].apply(lambda x: remove_stopwords(x))"
      ],
      "execution_count": 6,
      "outputs": []
    },
    {
      "cell_type": "markdown",
      "metadata": {
        "id": "PWgYxpnYh2bg"
      },
      "source": [
        "###Stemming"
      ]
    },
    {
      "cell_type": "code",
      "metadata": {
        "id": "2IcX8DHjh_yG"
      },
      "source": [
        "stemmer = PorterStemmer()\n",
        "\n",
        "def word_stemmer(text):\n",
        "  stem_word = [stemmer.stem(i) for i in text]\n",
        "  return stem_word\n",
        "\n",
        "train['processed_text'] = train['processed_text'].apply(lambda x: word_stemmer(x))\n",
        "test['processed_text'] = test['processed_text'].apply(lambda x: word_stemmer(x))"
      ],
      "execution_count": 7,
      "outputs": []
    },
    {
      "cell_type": "markdown",
      "metadata": {
        "id": "TZOtSKCtixAP"
      },
      "source": [
        "###Lammatization"
      ]
    },
    {
      "cell_type": "code",
      "metadata": {
        "id": "0uK4Lw-zim0X"
      },
      "source": [
        "lemmatizer = WordNetLemmatizer()\n",
        "\n",
        "def word_lammatizer(text):\n",
        "  lem_word = [lemmatizer.lemmatize(i) for i in text]\n",
        "  return lem_word\n",
        "\n",
        "train['processed_text'] = train['processed_text'].apply(lambda x: word_lammatizer(x))\n",
        "test['processed_text'] = test['processed_text'].apply(lambda x: word_lammatizer(x))"
      ],
      "execution_count": 8,
      "outputs": []
    },
    {
      "cell_type": "code",
      "metadata": {
        "id": "dG4t3svDjWPF"
      },
      "source": [
        "# for elem in train['processed_text']:\n",
        "#   print(elem)"
      ],
      "execution_count": 9,
      "outputs": []
    },
    {
      "cell_type": "markdown",
      "metadata": {
        "id": "dc1tgReBkSOs"
      },
      "source": [
        "##Feature Extraction"
      ]
    },
    {
      "cell_type": "markdown",
      "metadata": {
        "id": "iQFJngV-oRT_"
      },
      "source": [
        "###Word2Vec + TF-IDF"
      ]
    },
    {
      "cell_type": "code",
      "metadata": {
        "colab": {
          "base_uri": "https://localhost:8080/"
        },
        "id": "B_gZ0kuwkVn6",
        "outputId": "9c445a20-c9ee-4c8b-ea58-540ba1539f3f"
      },
      "source": [
        "word2vec = Word2Vec(train['processed_text'],\n",
        "                    size = 300,\n",
        "                    window = 10,\n",
        "                    min_count = 2,\n",
        "                    workers = 10,\n",
        "                    iter = 100)\n",
        "print(word2vec.wv.vector_size)"
      ],
      "execution_count": 10,
      "outputs": [
        {
          "output_type": "stream",
          "name": "stdout",
          "text": [
            "300\n"
          ]
        }
      ]
    },
    {
      "cell_type": "code",
      "metadata": {
        "id": "FA2XJORoztYx"
      },
      "source": [
        "pickle_output = open('word_model.pkl', 'wb')\n",
        "pickle.dump(word2vec, pickle_output)\n",
        "pickle_output.close()"
      ],
      "execution_count": 11,
      "outputs": []
    },
    {
      "cell_type": "code",
      "metadata": {
        "id": "dlPY558plfhz"
      },
      "source": [
        "semantically_similar_words = {words: [item[0] for item in word2vec.wv.most_similar([words], topn = 5)] \n",
        "                for words in ['abus', 'anxieti', 'financ', 'ptsd', 'social', 'stress', 'love', 'friendship']}"
      ],
      "execution_count": 12,
      "outputs": []
    },
    {
      "cell_type": "code",
      "metadata": {
        "colab": {
          "base_uri": "https://localhost:8080/"
        },
        "id": "-xsQI2DgmSPR",
        "outputId": "c834438e-b408-40a6-f2c3-d77d523b167e"
      },
      "source": [
        "for k, v in semantically_similar_words.items():\n",
        "  print(f'{k}:{str(v)}')"
      ],
      "execution_count": 13,
      "outputs": [
        {
          "output_type": "stream",
          "name": "stdout",
          "text": [
            "abus:['victim', 'mistreat', 'grew', 'twice', 'erod']\n",
            "anxieti:['lexapro', 'prescrib', 'bipolar', 'mood', 'prozac']\n",
            "financ:['instal', 'repay', 'scholarship', 'util', 'wage']\n",
            "ptsd:['disord', 'multitud', 'rattl', 'borderlin', 'trauma']\n",
            "social:['medium', 'shi', 'everybodi', 'interact', 'doug']\n",
            "stress:['everyday', 'unknown', 'throw', 'adhd', 'knot']\n",
            "love:['sweet', 'platon', 'passion', 'fun', 'regardless']\n",
            "friendship:['jessi', 'lisa', 'previou', 'girl', 'woman']\n"
          ]
        }
      ]
    },
    {
      "cell_type": "code",
      "metadata": {
        "colab": {
          "base_uri": "https://localhost:8080/"
        },
        "id": "iaLiwN6Fmhxc",
        "outputId": "ddd96571-93d4-4239-9052-aaaa29234b26"
      },
      "source": [
        "# similarity of 2 words\n",
        "print(word2vec.wv.similarity(w1 = 'love', w2 = 'anxieti'))"
      ],
      "execution_count": 14,
      "outputs": [
        {
          "output_type": "stream",
          "name": "stdout",
          "text": [
            "-0.017616086\n"
          ]
        }
      ]
    },
    {
      "cell_type": "code",
      "metadata": {
        "id": "NQybEWOvmy6K"
      },
      "source": [
        "keys = ['abus', 'anxieti', 'financ', 'ptsd', 'social']\n",
        "word_clusters = []\n",
        "embedding_clusters = []\n",
        "\n",
        "for word in keys:\n",
        "  embeddings = []\n",
        "  words = []\n",
        "  for similar_word, _ in word2vec.wv.most_similar(word, topn = 20):\n",
        "    words.append(similar_word)\n",
        "    embeddings.append(word2vec[similar_word])\n",
        "  word_clusters.append(words)\n",
        "  embedding_clusters.append(embeddings)"
      ],
      "execution_count": 15,
      "outputs": []
    },
    {
      "cell_type": "code",
      "metadata": {
        "id": "ftbVehngn_6v"
      },
      "source": [
        "embedding_clusters = np.array(embedding_clusters)\n",
        "n, m, k = embedding_clusters.shape\n",
        "tsne_model_en_2d = TSNE(perplexity = 15,\n",
        "                        n_components = 2, \n",
        "                        init = 'pca',\n",
        "                        n_iter = 3500, \n",
        "                        random_state = 32)\n",
        "embeddings_en_2d = np.array(tsne_model_en_2d.fit_transform(embedding_clusters.reshape(n * m, k))).reshape(n, m, 2)"
      ],
      "execution_count": 16,
      "outputs": []
    },
    {
      "cell_type": "code",
      "metadata": {
        "colab": {
          "base_uri": "https://localhost:8080/",
          "height": 823
        },
        "id": "tsCgZmM0Qu70",
        "outputId": "77808b26-3c08-4eaf-893f-91dd0f86f3ba"
      },
      "source": [
        "def tsne_plot_similar_words(title, labels, embedding_clusters, word_clusters, a, filename=None):\n",
        "    plt.figure(figsize=(18, 12))\n",
        "    colors = cm.rainbow(np.linspace(0, 1, len(labels)))\n",
        "    for label, embeddings, words, color in zip(labels, embedding_clusters, word_clusters, colors):\n",
        "        x = embeddings[:, 0]\n",
        "        y = embeddings[:, 1]\n",
        "        plt.scatter(x, y, s=100, c=color, alpha=a, label=label)\n",
        "        for i, word in enumerate(words):\n",
        "            plt.annotate(word, alpha=0.7, xy=(x[i], y[i]), xytext=(5, 2),\n",
        "                         textcoords='offset points', ha='right', va='bottom', size=14)\n",
        "    plt.legend(loc=4)\n",
        "    plt.title(title, size=15)\n",
        "    plt.grid(True)\n",
        "    if filename:\n",
        "        plt.savefig(filename, format='png', dpi=150, bbox_inches='tight')\n",
        "    plt.show()\n",
        "\n",
        "tsne_plot_similar_words('Similar words from Reddit Posts', keys, embeddings_en_2d, word_clusters, 0.7)"
      ],
      "execution_count": 17,
      "outputs": [
        {
          "output_type": "stream",
          "name": "stderr",
          "text": [
            "*c* argument looks like a single numeric RGB or RGBA sequence, which should be avoided as value-mapping will have precedence in case its length matches with *x* & *y*.  Please use the *color* keyword-argument or provide a 2-D array with a single row if you intend to specify the same RGB or RGBA value for all points.\n",
            "*c* argument looks like a single numeric RGB or RGBA sequence, which should be avoided as value-mapping will have precedence in case its length matches with *x* & *y*.  Please use the *color* keyword-argument or provide a 2-D array with a single row if you intend to specify the same RGB or RGBA value for all points.\n",
            "*c* argument looks like a single numeric RGB or RGBA sequence, which should be avoided as value-mapping will have precedence in case its length matches with *x* & *y*.  Please use the *color* keyword-argument or provide a 2-D array with a single row if you intend to specify the same RGB or RGBA value for all points.\n",
            "*c* argument looks like a single numeric RGB or RGBA sequence, which should be avoided as value-mapping will have precedence in case its length matches with *x* & *y*.  Please use the *color* keyword-argument or provide a 2-D array with a single row if you intend to specify the same RGB or RGBA value for all points.\n",
            "*c* argument looks like a single numeric RGB or RGBA sequence, which should be avoided as value-mapping will have precedence in case its length matches with *x* & *y*.  Please use the *color* keyword-argument or provide a 2-D array with a single row if you intend to specify the same RGB or RGBA value for all points.\n"
          ]
        },
        {
          "output_type": "display_data",
          "data": {
            "image/png": "[encoded data removed]",
            "text/plain": [
              "<Figure size 1296x864 with 1 Axes>"
            ]
          },
          "metadata": {
            "needs_background": "light"
          }
        }
      ]
    },
    {
      "cell_type": "code",
      "metadata": {
        "colab": {
          "base_uri": "https://localhost:8080/",
          "height": 483
        },
        "id": "HPtwvx1QQ1wA",
        "outputId": "8da9fbfb-fd43-4571-c9ed-80b4ddf0a23b"
      },
      "source": [
        "all_similar_words = sum([[k] + v for k, v in semantically_similar_words.items()], [])\n",
        "word_vectors = word2vec.wv[all_similar_words]\n",
        "pca = PCA(n_components=2)\n",
        "p_comps = pca.fit_transform(word_vectors)\n",
        "word_names = all_similar_words\n",
        "plt.figure(figsize=(12, 8))\n",
        "plt.scatter(p_comps[:, 0], p_comps[:, 1], c='red')\n",
        "\n",
        "for word_names, x, y in zip(word_names, p_comps[:, 0], p_comps[:, 1]):\n",
        "    plt.annotate(word_names, xy=(x+0.06, y+0.03), xytext=(0, 0), textcoords='offset points')"
      ],
      "execution_count": 18,
      "outputs": [
        {
          "output_type": "display_data",
          "data": {
            "image/png": "[encoded data removed]",
            "text/plain": [
              "<Figure size 864x576 with 1 Axes>"
            ]
          },
          "metadata": {
            "needs_background": "light"
          }
        }
      ]
    },
    {
      "cell_type": "code",
      "metadata": {
        "id": "wgknETekRL-8"
      },
      "source": [
        "class TfidfEmbeddingVectorizer(object):\n",
        "  \n",
        "    def __init__(self, word_model):\n",
        "        self.word_model = word_model\n",
        "        self.word_idf_weight = None\n",
        "        self.vector_size = word_model.wv.vector_size\n",
        "\n",
        "    def fit(self, docs):  # comply with scikit-learn transformer requirement\n",
        "        \"\"\"\n",
        "        Fit in a list of docs, which had been preprocessed and tokenized,\n",
        "        such as word bi-grammed, stop-words removed, lemmatized, part of speech filtered.\n",
        "        Then build up a tfidf model to compute each word's idf as its weight.\n",
        "        Noted that tf weight is already involved when constructing average word vectors, and thus omitted.\n",
        "        :param: pre_processed_docs: list of docs, which are tokenized\n",
        "        :return: self\n",
        "        \"\"\"\n",
        "        text_docs = []\n",
        "        for doc in docs:\n",
        "            text_docs.append(\" \".join(doc))\n",
        "\n",
        "        tfidf = TfidfVectorizer() # default 1-gram \n",
        "        tfidf.fit(text_docs)  # must be list of text string\n",
        "\n",
        "        # if a word was never seen - it must be at least as infrequent\n",
        "        # as any of the known words - so the default idf is the max of\n",
        "        # known idf's\n",
        "        max_idf = max(tfidf.idf_)  # used as default value for defaultdict\n",
        "        self.word_idf_weight = defaultdict(lambda: max_idf,\n",
        "                                           [(word, tfidf.idf_[i]) for word, i in tfidf.vocabulary_.items()])\n",
        "        return self\n",
        "\n",
        "    def transform(self, docs):  # comply with scikit-learn transformer requirement\n",
        "        doc_word_vector = self.word_average_list(docs)\n",
        "        return doc_word_vector\n",
        "\n",
        "    def word_average(self, sent):\n",
        "        \"\"\"\n",
        "        Compute average word vector for a single doc/sentence.\n",
        "        :param sent: list of sentence tokens\n",
        "        :return:\n",
        "            mean: float of averaging word vectors\n",
        "        \"\"\"\n",
        "        mean = []\n",
        "        for word in sent:\n",
        "            if word in self.word_model.wv.vocab:\n",
        "                mean.append(self.word_model.wv.get_vector(word) * self.word_idf_weight[word])  # idf weighted\n",
        "\n",
        "        if not mean:  # empty words\n",
        "            # If a text is empty, return a vector of zeros.\n",
        "            logging.warning(\"cannot compute average owing to no vector for {}\".format(sent))\n",
        "            return np.zeros(self.vector_size)\n",
        "        else:\n",
        "            mean = np.array(mean).mean(axis=0)\n",
        "            return mean\n",
        "\n",
        "    def word_average_list(self, docs):\n",
        "        \"\"\"\n",
        "        Compute average word vector for multiple docs, where docs had been tokenized.\n",
        "        :param docs: list of sentence in list of separated tokens\n",
        "        :return:\n",
        "            array of average word vector in shape (len(docs),)\n",
        "        \"\"\"\n",
        "        return np.vstack([self.word_average(sent) for sent in docs])"
      ],
      "execution_count": 19,
      "outputs": []
    },
    {
      "cell_type": "code",
      "metadata": {
        "id": "zXniTqFo072A"
      },
      "source": [
        "# pickle_output = open('word_vectorizer.pkl', 'wb')\n",
        "# pickle.dump(TfidfEmbeddingVectorizer, pickle_output)\n",
        "# pickle_output.close()"
      ],
      "execution_count": 20,
      "outputs": []
    },
    {
      "cell_type": "code",
      "metadata": {
        "id": "3kq4eXyDRRH-"
      },
      "source": [
        "train_token = train['processed_text']\n",
        "test_token = test['processed_text']\n",
        "\n",
        "X = train_token.append(test_token)\n",
        "X = X.reset_index(drop=True)"
      ],
      "execution_count": 21,
      "outputs": []
    },
    {
      "cell_type": "code",
      "metadata": {
        "id": "t6Sn0bwVXzyg"
      },
      "source": [
        "tfidf_vec_tr = TfidfEmbeddingVectorizer(word2vec)\n",
        "\n",
        "# fit tfidf model\n",
        "tfidf_vec_tr.fit(X)\n",
        "tfidf_doc_vec = tfidf_vec_tr.transform(X)"
      ],
      "execution_count": 22,
      "outputs": []
    },
    {
      "cell_type": "markdown",
      "metadata": {
        "id": "MMX-RL3lYofA"
      },
      "source": [
        "##Classification"
      ]
    },
    {
      "cell_type": "markdown",
      "metadata": {
        "id": "EqVFO46jYvwR"
      },
      "source": [
        "###Word Embedding + TF-IDF"
      ]
    },
    {
      "cell_type": "code",
      "metadata": {
        "id": "ysaN2QfvYrFu"
      },
      "source": [
        "scaler = StandardScaler()\n",
        "tfidf_doc_vec_scaled = scaler.fit_transform(tfidf_doc_vec)"
      ],
      "execution_count": 23,
      "outputs": []
    },
    {
      "cell_type": "code",
      "metadata": {
        "id": "34hdBciZZDG5"
      },
      "source": [
        "X_train = tfidf_doc_vec[:len(train)]\n",
        "y_train = train['label']\n",
        "\n",
        "X_test = tfidf_doc_vec[len(train):]\n",
        "y_test = test['label']"
      ],
      "execution_count": 24,
      "outputs": []
    },
    {
      "cell_type": "code",
      "metadata": {
        "id": "d87B6hPqZKtW"
      },
      "source": [
        "clf_dict = {'log reg': LogisticRegression(random_state=42), \n",
        "            'naive bayes': GaussianNB(), \n",
        "            'linear svc': LinearSVC(random_state=42),\n",
        "            'sgd classifier': SGDClassifier(random_state=42),\n",
        "            'ada boost': AdaBoostClassifier(n_estimators=100, random_state=42),\n",
        "            'gradient boosting': GradientBoostingClassifier(n_estimators=100, random_state=42),\n",
        "            'CART': DecisionTreeClassifier(random_state=42),\n",
        "            'random forest': RandomForestClassifier(n_estimators=100, random_state=42),\n",
        "            'KNN': KNeighborsClassifier()}"
      ],
      "execution_count": 25,
      "outputs": []
    },
    {
      "cell_type": "code",
      "metadata": {
        "colab": {
          "base_uri": "https://localhost:8080/"
        },
        "id": "HJFgi_JraS3F",
        "outputId": "6df28377-6091-46cb-e6d1-54e2e70ae294"
      },
      "source": [
        "for name, clf in clf_dict.items():\n",
        "    model = clf.fit(X_train, y_train)\n",
        "    y_pred = model.predict(X_test)\n",
        "    print('Accuracy of {}:'.format(name), accuracy_score(y_pred, y_test))"
      ],
      "execution_count": 26,
      "outputs": [
        {
          "output_type": "stream",
          "name": "stdout",
          "text": [
            "Accuracy of log reg: 0.737062937062937\n",
            "Accuracy of naive bayes: 0.6447552447552447\n",
            "Accuracy of linear svc: 0.737062937062937\n",
            "Accuracy of sgd classifier: 0.7132867132867133\n",
            "Accuracy of ada boost: 0.7258741258741259\n",
            "Accuracy of gradient boosting: 0.7342657342657343\n",
            "Accuracy of CART: 0.6657342657342658\n",
            "Accuracy of random forest: 0.7258741258741259\n",
            "Accuracy of KNN: 0.6559440559440559\n"
          ]
        }
      ]
    },
    {
      "cell_type": "markdown",
      "metadata": {
        "id": "wDhBV2g8dC1H"
      },
      "source": [
        "####Evaluate log reg"
      ]
    },
    {
      "cell_type": "code",
      "metadata": {
        "colab": {
          "base_uri": "https://localhost:8080/"
        },
        "id": "Qf0Z0LO1cuTk",
        "outputId": "a76b361a-dfed-4704-a12f-0fcab1872076"
      },
      "source": [
        "clf = LogisticRegression(random_state=42).fit(X_train, y_train)\n",
        "y_pred = clf.predict(X_test)\n",
        "accuracy_score(y_test, y_pred)"
      ],
      "execution_count": 27,
      "outputs": [
        {
          "output_type": "execute_result",
          "data": {
            "text/plain": [
              "0.737062937062937"
            ]
          },
          "metadata": {},
          "execution_count": 27
        }
      ]
    },
    {
      "cell_type": "code",
      "metadata": {
        "id": "x8-xMePZ2rUb"
      },
      "source": [
        "pickle_output = open('word_embedding_lr.pkl', 'wb')\n",
        "pickle.dump(clf, pickle_output)\n",
        "pickle_output.close()"
      ],
      "execution_count": 28,
      "outputs": []
    },
    {
      "cell_type": "code",
      "metadata": {
        "colab": {
          "base_uri": "https://localhost:8080/",
          "height": 228
        },
        "id": "FTX8hY5Kcwj8",
        "outputId": "4bfbfd30-58ae-468d-f3e0-63fda1c21fc7"
      },
      "source": [
        "# Confusion Matrix\n",
        "cm = confusion_matrix(y_test, y_pred)\n",
        "\n",
        "df_cm = pd.DataFrame(cm, index = [i for i in \"01\"], columns = [i for i in \"01\"])\n",
        "plt.figure(figsize = (5, 3))\n",
        "sns.heatmap(df_cm, annot=True, cmap='Blues', fmt='g')"
      ],
      "execution_count": 29,
      "outputs": [
        {
          "output_type": "execute_result",
          "data": {
            "text/plain": [
              "<matplotlib.axes._subplots.AxesSubplot at 0x7fb656a7a850>"
            ]
          },
          "metadata": {},
          "execution_count": 29
        },
        {
          "output_type": "display_data",
          "data": {
            "image/png": "[encoded data removed]",
            "text/plain": [
              "<Figure size 360x216 with 2 Axes>"
            ]
          },
          "metadata": {
            "needs_background": "light"
          }
        }
      ]
    },
    {
      "cell_type": "code",
      "metadata": {
        "colab": {
          "base_uri": "https://localhost:8080/"
        },
        "id": "Dqha0TLmc4FC",
        "outputId": "822dafef-a218-419d-e575-48f7c3c3915a"
      },
      "source": [
        "print('Precision', precision_score(y_test, y_pred))\n",
        "print('Recall', recall_score(y_test, y_pred))\n",
        "print('F1-Score', f1_score(y_test, y_pred))"
      ],
      "execution_count": 30,
      "outputs": [
        {
          "output_type": "stream",
          "name": "stdout",
          "text": [
            "Precision 0.7234567901234568\n",
            "Recall 0.7940379403794038\n",
            "F1-Score 0.7571059431524548\n"
          ]
        }
      ]
    },
    {
      "cell_type": "markdown",
      "metadata": {
        "id": "hUDGVgHadJCm"
      },
      "source": [
        "####Evaluate radom forest"
      ]
    },
    {
      "cell_type": "code",
      "metadata": {
        "id": "TgL3oaOtcHuX"
      },
      "source": [
        "# clf = RandomForestClassifier(random_state=0).fit(X_train, y_train)\n",
        "# y_pred = clf.predict(X_test)\n",
        "# accuracy_score(y_test, y_pred)"
      ],
      "execution_count": 31,
      "outputs": []
    },
    {
      "cell_type": "code",
      "metadata": {
        "id": "X6IHZ7_W1fqR"
      },
      "source": [
        "# pickle_output = open('word_embedding_rf.pkl', 'wb')\n",
        "# pickle.dump(clf, pickle_output)\n",
        "# pickle_output.close()"
      ],
      "execution_count": 32,
      "outputs": []
    },
    {
      "cell_type": "code",
      "metadata": {
        "id": "PQiGI_D6cQrJ"
      },
      "source": [
        "#Confusion Matrix\n",
        "# cm = confusion_matrix(y_test, y_pred)\n",
        "\n",
        "# df_cm = pd.DataFrame(cm, index = [i for i in \"01\"], columns = [i for i in \"01\"])\n",
        "# plt.figure(figsize = (5, 3))\n",
        "# sns.heatmap(df_cm, annot=True, cmap='Blues', fmt='g')"
      ],
      "execution_count": 33,
      "outputs": []
    },
    {
      "cell_type": "code",
      "metadata": {
        "id": "IvcQM3sIcYTg"
      },
      "source": [
        "# print('Precision', precision_score(y_test, y_pred))\n",
        "# print('Recall', recall_score(y_test, y_pred))\n",
        "# print('F1-Score', f1_score(y_test, y_pred))"
      ],
      "execution_count": 34,
      "outputs": []
    },
    {
      "cell_type": "markdown",
      "metadata": {
        "id": "LS6Hn7_7eCtP"
      },
      "source": [
        "#Stress Analyze for serving"
      ]
    },
    {
      "cell_type": "code",
      "metadata": {
        "id": "Igb2FfQteQvF"
      },
      "source": [
        "# Data preprocessing\n",
        "from tqdm import tqdm\n",
        "\n",
        "class Posts:\n",
        "    def __init__(self, text_df):\n",
        "        self.text_df = text_df\n",
        "        return\n",
        "\n",
        "    def tokenization(self):\n",
        "        tqdm.pandas()\n",
        "        tokenizer = RegexpTokenizer(r'[a-zA-Z]{2,}')\n",
        "        tokens_df = self.text_df.progress_apply(lambda x: tokenizer.tokenize(x.lower()))\n",
        "        return tokens_df\n",
        "\n",
        "    def remove_stopwords(self, tokens):\n",
        "        words = [w for w in tokens if w not in stopwords.words('english')]\n",
        "        return words\n",
        "\n",
        "    def word_lemmatizer(self, tokens):\n",
        "        lemmatizer = WordNetLemmatizer()\n",
        "        lem_text = [lemmatizer.lemmatize(i) for i in tokens]\n",
        "        return lem_text\n",
        "\n",
        "    def preprocess(self):\n",
        "        tokens = self.tokenization()\n",
        "        tokens_sw = tokens.progress_apply(lambda x: self.remove_stopwords(x))\n",
        "        final_tokens = tokens_sw.progress_apply(lambda x: self.word_lemmatizer(x))\n",
        "        return final_tokens"
      ],
      "execution_count": 35,
      "outputs": []
    },
    {
      "cell_type": "code",
      "metadata": {
        "id": "d5CNAH0QeWCS"
      },
      "source": [
        "# Word2Vec + TF-IDF\n",
        "from collections import defaultdict\n",
        "from gensim.test.utils import common_texts\n",
        "\n",
        "class WordEmbeddingVectorizer(object):\n",
        "    def __init__(self, word_model):\n",
        "        self.word_model = word_model\n",
        "        self.word_idf_weight = None\n",
        "        self.vector_size = word_model.wv.vector_size\n",
        "\n",
        "    def fit(self, texts):\n",
        "        text_docs = []\n",
        "        for text in texts:\n",
        "            text_docs.append(\" \".join(text))\n",
        "\n",
        "        tfidf = TfidfVectorizer(stop_words='english', ngram_range=(1,1))\n",
        "        tfidf.fit(text_docs)\n",
        "        max_idf = max(tfidf.idf_)\n",
        "        self.word_idf_weight = defaultdict(lambda: max_idf,\n",
        "                                           [(word, tfidf.idf_[i]) for word, i in tfidf.vocabulary_.items()])\n",
        "        return self\n",
        "\n",
        "    def transform(self, texts):\n",
        "        text_word_vector = self.word_average_list(texts)\n",
        "        return text_word_vector\n",
        "\n",
        "    def word_average(self, sent):\n",
        "        mean = []\n",
        "        for word in sent:\n",
        "            if word in self.word_model.wv.vocab:\n",
        "                mean.append(self.word_model.wv.get_vector(word) * self.word_idf_weight[word])\n",
        "\n",
        "        if not mean:\n",
        "            logging.warning(\"cannot compute average owing to no vector for {}\".format(sent))\n",
        "            return np.zeros(self.vector_size)\n",
        "        else:\n",
        "            mean = np.array(mean).mean(axis=0)\n",
        "            return mean\n",
        "\n",
        "    def word_average_list(self, docs):\n",
        "        return np.vstack([self.word_average(sent) for sent in docs])"
      ],
      "execution_count": 36,
      "outputs": []
    },
    {
      "cell_type": "code",
      "metadata": {
        "id": "fsLkIiLuebdL"
      },
      "source": [
        "def preprocess(series):\n",
        "  preprocess_series = Posts(series).preprocess()\n",
        "  print(preprocess_series)\n",
        "  word_embedding_rf = WordEmbeddingVectorizer(word2vec)\n",
        "  input_matrix = word_embedding_rf.fit(preprocess_series).transform(preprocess_series)\n",
        "  return input_matrix"
      ],
      "execution_count": 37,
      "outputs": []
    },
    {
      "cell_type": "code",
      "metadata": {
        "id": "sKpB7lSieb26"
      },
      "source": [
        "def predict(series):\n",
        "  input_matrix = preprocess(pd.Series(series))\n",
        "  pred_labels = clf.predict(input_matrix)\n",
        "  print(pred_labels)\n",
        "  pred_proba = clf.predict_proba(input_matrix)\n",
        "  print(pred_proba)\n",
        "  confidence_score = [prob[1] for prob in pred_proba]\n",
        "  output = pd.DataFrame({'text': series, 'confidence_score': confidence_score, 'labels': pred_labels})\n",
        "  output['labels'] = output['labels'].map({1: 'stress', 0: 'non-stress'})\n",
        "  return output"
      ],
      "execution_count": 38,
      "outputs": []
    },
    {
      "cell_type": "code",
      "metadata": {
        "colab": {
          "base_uri": "https://localhost:8080/",
          "height": 524
        },
        "id": "smUD2Lr7edtj",
        "outputId": "48f70336-6016-42d4-bc2b-a1b366269541"
      },
      "source": [
        "predict([\"I am very happy today\", \"It's friday, wish you have a nice weekend\", \"I feel bad since yesterday\", \"I am happy today\", \"I am ok\", \"I dont feel anything\"])"
      ],
      "execution_count": 39,
      "outputs": [
        {
          "output_type": "stream",
          "name": "stderr",
          "text": [
            "100%|██████████| 6/6 [00:00<00:00, 6154.52it/s]\n",
            "100%|██████████| 6/6 [00:00<00:00, 584.23it/s]\n",
            "100%|██████████| 6/6 [00:00<00:00, 5798.58it/s]"
          ]
        },
        {
          "output_type": "stream",
          "name": "stdout",
          "text": [
            "0                   [happy, today]\n",
            "1    [friday, wish, nice, weekend]\n",
            "2    [feel, bad, since, yesterday]\n",
            "3                   [happy, today]\n",
            "4                             [ok]\n",
            "5           [dont, feel, anything]\n",
            "dtype: object\n",
            "[0 0 1 0 0 1]\n",
            "[[0.76080508 0.23919492]\n",
            " [0.89498294 0.10501706]\n",
            " [0.02429583 0.97570417]\n",
            " [0.76080508 0.23919492]\n",
            " [0.96991137 0.03008863]\n",
            " [0.05343847 0.94656153]]\n"
          ]
        },
        {
          "output_type": "stream",
          "name": "stderr",
          "text": [
            "\n"
          ]
        },
        {
          "output_type": "execute_result",
          "data": {
            "text/html": [
              "<div>\n",
              "<style scoped>\n",
              "    .dataframe tbody tr th:only-of-type {\n",
              "        vertical-align: middle;\n",
              "    }\n",
              "\n",
              "    .dataframe tbody tr th {\n",
              "        vertical-align: top;\n",
              "    }\n",
              "\n",
              "    .dataframe thead th {\n",
              "        text-align: right;\n",
              "    }\n",
              "</style>\n",
              "<table border=\"1\" class=\"dataframe\">\n",
              "  <thead>\n",
              "    <tr style=\"text-align: right;\">\n",
              "      <th></th>\n",
              "      <th>text</th>\n",
              "      <th>confidence_score</th>\n",
              "      <th>labels</th>\n",
              "    </tr>\n",
              "  </thead>\n",
              "  <tbody>\n",
              "    <tr>\n",
              "      <th>0</th>\n",
              "      <td>I am very happy today</td>\n",
              "      <td>0.239195</td>\n",
              "      <td>non-stress</td>\n",
              "    </tr>\n",
              "    <tr>\n",
              "      <th>1</th>\n",
              "      <td>It's friday, wish you have a nice weekend</td>\n",
              "      <td>0.105017</td>\n",
              "      <td>non-stress</td>\n",
              "    </tr>\n",
              "    <tr>\n",
              "      <th>2</th>\n",
              "      <td>I feel bad since yesterday</td>\n",
              "      <td>0.975704</td>\n",
              "      <td>stress</td>\n",
              "    </tr>\n",
              "    <tr>\n",
              "      <th>3</th>\n",
              "      <td>I am happy today</td>\n",
              "      <td>0.239195</td>\n",
              "      <td>non-stress</td>\n",
              "    </tr>\n",
              "    <tr>\n",
              "      <th>4</th>\n",
              "      <td>I am ok</td>\n",
              "      <td>0.030089</td>\n",
              "      <td>non-stress</td>\n",
              "    </tr>\n",
              "    <tr>\n",
              "      <th>5</th>\n",
              "      <td>I dont feel anything</td>\n",
              "      <td>0.946562</td>\n",
              "      <td>stress</td>\n",
              "    </tr>\n",
              "  </tbody>\n",
              "</table>\n",
              "</div>"
            ],
            "text/plain": [
              "                                        text  confidence_score      labels\n",
              "0                      I am very happy today          0.239195  non-stress\n",
              "1  It's friday, wish you have a nice weekend          0.105017  non-stress\n",
              "2                 I feel bad since yesterday          0.975704      stress\n",
              "3                           I am happy today          0.239195  non-stress\n",
              "4                                    I am ok          0.030089  non-stress\n",
              "5                       I dont feel anything          0.946562      stress"
            ]
          },
          "metadata": {},
          "execution_count": 39
        }
      ]
    }
  ]
}