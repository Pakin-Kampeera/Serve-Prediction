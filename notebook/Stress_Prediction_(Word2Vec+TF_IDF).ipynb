{
  "nbformat": 4,
  "nbformat_minor": 2,
  "metadata": {
    "colab": {
      "name": "Stress_Prediction_(Word2Vec+TF-IDF).ipynb",
      "provenance": [],
      "toc_visible": true
    },
    "kernelspec": {
      "name": "python3",
      "display_name": "Python 3"
    },
    "language_info": {
      "name": "python"
    }
  },
  "cells": [
    {
      "cell_type": "markdown",
      "source": [
        "# Stress Analyze"
      ],
      "metadata": {
        "id": "YTP6x-7ceN6b"
      }
    },
    {
      "cell_type": "code",
      "execution_count": null,
      "source": [
        "import os\r\n",
        "import re\r\n",
        "import string\r\n",
        "import pandas as pd\r\n",
        "import numpy as np\r\n",
        "import matplotlib.pyplot as plt\r\n",
        "import matplotlib.colors as mcolors\r\n",
        "import matplotlib.cm as cm\r\n",
        "import seaborn as sns\r\n",
        "from collections import defaultdict\r\n",
        "\r\n",
        "import nltk\r\n",
        "from nltk.corpus import stopwords, RegexpTokenizer\r\n",
        "from nltk.stem import WordNetLemmatizer\r\n",
        "from nltk.stem.porter import PorterStemmer\r\n",
        "from sklearn.manifold import TSNE\r\n",
        "from sklearn.decomposition import PCA\r\n",
        "from sklearn.feature_extraction.text import TfidfVectorizer\r\n",
        "from sklearn.preprocessing import StandardScaler\r\n",
        "\r\n",
        "from sklearn.linear_model import LogisticRegression, SGDClassifier\r\n",
        "from sklearn.naive_bayes import GaussianNB\r\n",
        "from sklearn.svm import LinearSVC\r\n",
        "from sklearn.ensemble import RandomForestClassifier, AdaBoostClassifier, GradientBoostingClassifier\r\n",
        "from sklearn.tree import DecisionTreeClassifier\r\n",
        "from sklearn.neighbors import KNeighborsClassifier\r\n",
        "\r\n",
        "from sklearn.metrics import accuracy_score, confusion_matrix, precision_score, recall_score, f1_score\r\n",
        "\r\n",
        "from gensim.models import Word2Vec\r\n",
        "\r\n",
        "import warnings\r\n",
        "warnings.filterwarnings(\"ignore\")\r\n",
        "\r\n",
        "import pickle"
      ],
      "outputs": [],
      "metadata": {
        "id": "Ppf-ibPFeMEk"
      }
    },
    {
      "cell_type": "code",
      "execution_count": null,
      "source": [
        "nltk.download('stopwords')\r\n",
        "nltk.download('wordnet')"
      ],
      "outputs": [
        {
          "output_type": "stream",
          "name": "stdout",
          "text": [
            "[nltk_data] Downloading package stopwords to /root/nltk_data...\n",
            "[nltk_data]   Unzipping corpora/stopwords.zip.\n",
            "[nltk_data] Downloading package wordnet to /root/nltk_data...\n",
            "[nltk_data]   Unzipping corpora/wordnet.zip.\n"
          ]
        },
        {
          "output_type": "execute_result",
          "data": {
            "text/plain": [
              "True"
            ]
          },
          "metadata": {
            "tags": []
          },
          "execution_count": 2
        }
      ],
      "metadata": {
        "id": "O4snjMWLjtgi",
        "colab": {
          "base_uri": "https://localhost:8080/"
        },
        "outputId": "e64b88fe-6b4b-4244-ccd8-3e5ab1f1dea8"
      }
    },
    {
      "cell_type": "markdown",
      "source": [
        "## Data Preprocessing\r\n",
        "- Tokenization & Remove punctuation.\r\n",
        "- Removal of commonly used word (stopword).\r\n",
        "- Stemming (Normalization).\r\n",
        "- Lammatization (Normalization)."
      ],
      "metadata": {
        "id": "D19zwgZUeRaL"
      }
    },
    {
      "cell_type": "code",
      "execution_count": null,
      "source": [
        "from google.colab import drive\r\n",
        "drive.mount('/content/drive')"
      ],
      "outputs": [
        {
          "output_type": "stream",
          "name": "stdout",
          "text": [
            "Mounted at /content/drive\n"
          ]
        }
      ],
      "metadata": {
        "id": "CwqiykIPeWHT",
        "colab": {
          "base_uri": "https://localhost:8080/"
        },
        "outputId": "1b4ccd7f-79b1-470b-c9e1-b5d550c2f4c9"
      }
    },
    {
      "cell_type": "code",
      "execution_count": null,
      "source": [
        "path = '/content/drive/MyDrive/Colab Notebooks/Dataset/'\r\n",
        "train = pd.read_csv(f'{path}dreaddit-train.csv', encoding = 'ISO-8859-1')\r\n",
        "test = pd.read_csv(f'{path}dreaddit-test.csv', encoding = 'ISO-8859-1')"
      ],
      "outputs": [],
      "metadata": {
        "id": "r_BHoLlie5M1"
      }
    },
    {
      "cell_type": "markdown",
      "source": [
        "### Tokenization & Remove punctuation"
      ],
      "metadata": {
        "id": "h3q_vNlDhHRl"
      }
    },
    {
      "cell_type": "code",
      "execution_count": null,
      "source": [
        "# Regex\r\n",
        "tokenizer = RegexpTokenizer(r'[a-zA-Z]{2,}')\r\n",
        "train['processed_text'] = train['text'].apply(lambda x: tokenizer.tokenize(x.lower()))\r\n",
        "test['processed_text'] = test['text'].apply(lambda x: tokenizer.tokenize(x.lower()))"
      ],
      "outputs": [],
      "metadata": {
        "id": "2TDxw0nCe9O-"
      }
    },
    {
      "cell_type": "markdown",
      "source": [
        "### Remove Stopwords"
      ],
      "metadata": {
        "id": "o4dEmF6sg9SQ"
      }
    },
    {
      "cell_type": "code",
      "execution_count": null,
      "source": [
        "def remove_stopwords(text):\r\n",
        "  words = [w for w in text if w not in stopwords.words('english')]\r\n",
        "  return words\r\n",
        "\r\n",
        "train['processed_text'] = train['processed_text'].apply(lambda x: remove_stopwords(x))\r\n",
        "test['processed_text'] = test['processed_text'].apply(lambda x: remove_stopwords(x))"
      ],
      "outputs": [],
      "metadata": {
        "id": "NK2TQ9OOhA7Q"
      }
    },
    {
      "cell_type": "markdown",
      "source": [
        "### Stemming"
      ],
      "metadata": {
        "id": "PWgYxpnYh2bg"
      }
    },
    {
      "cell_type": "code",
      "execution_count": null,
      "source": [
        "stemmer = PorterStemmer()\r\n",
        "\r\n",
        "def word_stemmer(text):\r\n",
        "  stem_word = [stemmer.stem(i) for i in text]\r\n",
        "  return stem_word\r\n",
        "\r\n",
        "train['processed_text'] = train['processed_text'].apply(lambda x: word_stemmer(x))\r\n",
        "test['processed_text'] = test['processed_text'].apply(lambda x: word_stemmer(x))"
      ],
      "outputs": [],
      "metadata": {
        "id": "2IcX8DHjh_yG"
      }
    },
    {
      "cell_type": "markdown",
      "source": [
        "### Lammatization"
      ],
      "metadata": {
        "id": "TZOtSKCtixAP"
      }
    },
    {
      "cell_type": "code",
      "execution_count": null,
      "source": [
        "lemmatizer = WordNetLemmatizer()\r\n",
        "\r\n",
        "def word_lammatizer(text):\r\n",
        "  lem_word = [lemmatizer.lemmatize(i) for i in text]\r\n",
        "  return lem_word\r\n",
        "\r\n",
        "train['processed_text'] = train['processed_text'].apply(lambda x: word_lammatizer(x))\r\n",
        "test['processed_text'] = test['processed_text'].apply(lambda x: word_lammatizer(x))"
      ],
      "outputs": [],
      "metadata": {
        "id": "0uK4Lw-zim0X"
      }
    },
    {
      "cell_type": "code",
      "execution_count": null,
      "source": [
        "# for elem in train['processed_text']:\r\n",
        "#   print(elem)"
      ],
      "outputs": [],
      "metadata": {
        "id": "dG4t3svDjWPF"
      }
    },
    {
      "cell_type": "markdown",
      "source": [
        "## Feature Extraction"
      ],
      "metadata": {
        "id": "dc1tgReBkSOs"
      }
    },
    {
      "cell_type": "markdown",
      "source": [
        "### Word2Vec + TF-IDF"
      ],
      "metadata": {
        "id": "iQFJngV-oRT_"
      }
    },
    {
      "cell_type": "code",
      "execution_count": null,
      "source": [
        "word2vec = Word2Vec(train['processed_text'],\r\n",
        "                    size = 300,\r\n",
        "                    window = 10,\r\n",
        "                    min_count = 1,\r\n",
        "                    workers = 10,\r\n",
        "                    iter = 100)"
      ],
      "outputs": [],
      "metadata": {
        "id": "B_gZ0kuwkVn6"
      }
    },
    {
      "cell_type": "code",
      "execution_count": null,
      "source": [
        "pickle_output = open('word_model.pkl', 'wb')\r\n",
        "pickle.dump(word2vec, pickle_output)\r\n",
        "pickle_output.close()"
      ],
      "outputs": [],
      "metadata": {
        "id": "FA2XJORoztYx"
      }
    },
    {
      "cell_type": "code",
      "execution_count": null,
      "source": [
        "print(word2vec.wv.vector_size)"
      ],
      "outputs": [
        {
          "output_type": "stream",
          "name": "stdout",
          "text": [
            "300\n"
          ]
        }
      ],
      "metadata": {
        "colab": {
          "base_uri": "https://localhost:8080/"
        },
        "id": "bdZOz_65l27I",
        "outputId": "808d8716-dd45-469a-c922-51cb1e04604b"
      }
    },
    {
      "cell_type": "code",
      "execution_count": null,
      "source": [
        "semantically_similar_words = {words: [item[0] for item in word2vec.wv.most_similar([words], topn = 5)] \r\n",
        "                for words in ['abus', 'anxieti', 'financ', 'ptsd', 'social', 'stress', 'love', 'friendship']}"
      ],
      "outputs": [],
      "metadata": {
        "id": "dlPY558plfhz"
      }
    },
    {
      "cell_type": "code",
      "execution_count": null,
      "source": [
        "for k, v in semantically_similar_words.items():\r\n",
        "  print(f'{k}:{str(v)}')"
      ],
      "outputs": [
        {
          "output_type": "stream",
          "name": "stdout",
          "text": [
            "abus:['revert', 'erod', 'transpar', 'mistreat', 'victim']\n",
            "anxieti:['lexapro', 'prescrib', 'bipolar', 'mood', 'symptom']\n",
            "financ:['statur', 'util', 'wage', 'unfourtunatley', 'instal']\n",
            "ptsd:['jett', 'raffl', 'traumat', 'disord', 'borderlin']\n",
            "social:['medium', 'enviou', 'uninstal', 'interact', 'doug']\n",
            "stress:['everyday', 'sympthom', 'reflux', 'statur', 'throw']\n",
            "love:['sweet', 'platon', 'fun', 'beauti', 'passion']\n",
            "friendship:['jessi', 'lisa', 'sassi', 'handl', 'beyond']\n"
          ]
        }
      ],
      "metadata": {
        "colab": {
          "base_uri": "https://localhost:8080/"
        },
        "id": "-xsQI2DgmSPR",
        "outputId": "1f5d031e-4b84-4127-a444-0de32a43f35a"
      }
    },
    {
      "cell_type": "code",
      "execution_count": null,
      "source": [
        "# similarity of 2 words\r\n",
        "print(word2vec.wv.similarity(w1 = 'love', w2 = 'anxieti'))"
      ],
      "outputs": [
        {
          "output_type": "stream",
          "name": "stdout",
          "text": [
            "-0.025805427\n"
          ]
        }
      ],
      "metadata": {
        "colab": {
          "base_uri": "https://localhost:8080/"
        },
        "id": "iaLiwN6Fmhxc",
        "outputId": "a6b93dfb-881f-4b00-cb28-c23ccb74fbc9"
      }
    },
    {
      "cell_type": "code",
      "execution_count": null,
      "source": [
        "keys = ['abus', 'anxieti', 'financ', 'ptsd', 'social']\r\n",
        "word_clusters = []\r\n",
        "embedding_clusters = []\r\n",
        "\r\n",
        "for word in keys:\r\n",
        "  embeddings = []\r\n",
        "  words = []\r\n",
        "  for similar_word, _ in word2vec.wv.most_similar(word, topn = 20):\r\n",
        "    words.append(similar_word)\r\n",
        "    embeddings.append(word2vec[similar_word])\r\n",
        "  word_clusters.append(words)\r\n",
        "  embedding_clusters.append(embeddings)"
      ],
      "outputs": [],
      "metadata": {
        "id": "NQybEWOvmy6K"
      }
    },
    {
      "cell_type": "code",
      "execution_count": null,
      "source": [
        "embedding_clusters = np.array(embedding_clusters)\r\n",
        "n, m, k = embedding_clusters.shape\r\n",
        "tsne_model_en_2d = TSNE(perplexity = 15,\r\n",
        "                        n_components = 2, \r\n",
        "                        init = 'pca',\r\n",
        "                        n_iter = 3500, \r\n",
        "                        random_state = 32)\r\n",
        "embeddings_en_2d = np.array(tsne_model_en_2d.fit_transform(embedding_clusters.reshape(n * m, k))).reshape(n, m, 2)"
      ],
      "outputs": [],
      "metadata": {
        "id": "ftbVehngn_6v"
      }
    },
    {
      "cell_type": "code",
      "execution_count": null,
      "source": [
        "def tsne_plot_similar_words(title, labels, embedding_clusters, word_clusters, a, filename=None):\r\n",
        "    plt.figure(figsize=(18, 12))\r\n",
        "    colors = cm.rainbow(np.linspace(0, 1, len(labels)))\r\n",
        "    for label, embeddings, words, color in zip(labels, embedding_clusters, word_clusters, colors):\r\n",
        "        x = embeddings[:, 0]\r\n",
        "        y = embeddings[:, 1]\r\n",
        "        plt.scatter(x, y, s=100, c=color, alpha=a, label=label)\r\n",
        "        for i, word in enumerate(words):\r\n",
        "            plt.annotate(word, alpha=0.7, xy=(x[i], y[i]), xytext=(5, 2),\r\n",
        "                         textcoords='offset points', ha='right', va='bottom', size=14)\r\n",
        "    plt.legend(loc=4)\r\n",
        "    plt.title(title, size=15)\r\n",
        "    plt.grid(True)\r\n",
        "    if filename:\r\n",
        "        plt.savefig(filename, format='png', dpi=150, bbox_inches='tight')\r\n",
        "    plt.show()\r\n",
        "\r\n",
        "tsne_plot_similar_words('Similar words from Reddit Posts', keys, embeddings_en_2d, word_clusters, 0.7)"
      ],
      "outputs": [
        {
          "output_type": "stream",
          "name": "stderr",
          "text": [
            "*c* argument looks like a single numeric RGB or RGBA sequence, which should be avoided as value-mapping will have precedence in case its length matches with *x* & *y*.  Please use the *color* keyword-argument or provide a 2-D array with a single row if you intend to specify the same RGB or RGBA value for all points.\n",
            "*c* argument looks like a single numeric RGB or RGBA sequence, which should be avoided as value-mapping will have precedence in case its length matches with *x* & *y*.  Please use the *color* keyword-argument or provide a 2-D array with a single row if you intend to specify the same RGB or RGBA value for all points.\n",
            "*c* argument looks like a single numeric RGB or RGBA sequence, which should be avoided as value-mapping will have precedence in case its length matches with *x* & *y*.  Please use the *color* keyword-argument or provide a 2-D array with a single row if you intend to specify the same RGB or RGBA value for all points.\n",
            "*c* argument looks like a single numeric RGB or RGBA sequence, which should be avoided as value-mapping will have precedence in case its length matches with *x* & *y*.  Please use the *color* keyword-argument or provide a 2-D array with a single row if you intend to specify the same RGB or RGBA value for all points.\n",
            "*c* argument looks like a single numeric RGB or RGBA sequence, which should be avoided as value-mapping will have precedence in case its length matches with *x* & *y*.  Please use the *color* keyword-argument or provide a 2-D array with a single row if you intend to specify the same RGB or RGBA value for all points.\n"
          ]
        },
        {
          "output_type": "display_data",
          "data": {
            "text/plain": [
              "<Figure size 1296x864 with 1 Axes>"
            ],
            "image/png": "[encoded data removed]"
          },
          "metadata": {
            "tags": [],
            "needs_background": "light"
          }
        }
      ],
      "metadata": {
        "colab": {
          "base_uri": "https://localhost:8080/",
          "height": 823
        },
        "id": "tsCgZmM0Qu70",
        "outputId": "a03474f3-8b80-4339-e2a6-4deb7c43a0e6"
      }
    },
    {
      "cell_type": "code",
      "execution_count": null,
      "source": [
        "all_similar_words = sum([[k] + v for k, v in semantically_similar_words.items()], [])\r\n",
        "word_vectors = word2vec.wv[all_similar_words]\r\n",
        "pca = PCA(n_components=2)\r\n",
        "p_comps = pca.fit_transform(word_vectors)\r\n",
        "word_names = all_similar_words\r\n",
        "plt.figure(figsize=(12, 8))\r\n",
        "plt.scatter(p_comps[:, 0], p_comps[:, 1], c='red')\r\n",
        "\r\n",
        "for word_names, x, y in zip(word_names, p_comps[:, 0], p_comps[:, 1]):\r\n",
        "    plt.annotate(word_names, xy=(x+0.06, y+0.03), xytext=(0, 0), textcoords='offset points')"
      ],
      "outputs": [
        {
          "output_type": "display_data",
          "data": {
            "text/plain": [
              "<Figure size 864x576 with 1 Axes>"
            ],
            "image/png": "[encoded data removed]"
          },
          "metadata": {
            "tags": [],
            "needs_background": "light"
          }
        }
      ],
      "metadata": {
        "colab": {
          "base_uri": "https://localhost:8080/",
          "height": 483
        },
        "id": "HPtwvx1QQ1wA",
        "outputId": "7203bdde-3e87-4800-f393-468fab7c429a"
      }
    },
    {
      "cell_type": "code",
      "execution_count": null,
      "source": [
        "class TfidfEmbeddingVectorizer(object):\r\n",
        "  \r\n",
        "    def __init__(self, word_model):\r\n",
        "        self.word_model = word_model\r\n",
        "        self.word_idf_weight = None\r\n",
        "        self.vector_size = word_model.wv.vector_size\r\n",
        "\r\n",
        "    def fit(self, docs):  # comply with scikit-learn transformer requirement\r\n",
        "        \"\"\"\r\n",
        "        Fit in a list of docs, which had been preprocessed and tokenized,\r\n",
        "        such as word bi-grammed, stop-words removed, lemmatized, part of speech filtered.\r\n",
        "        Then build up a tfidf model to compute each word's idf as its weight.\r\n",
        "        Noted that tf weight is already involved when constructing average word vectors, and thus omitted.\r\n",
        "        :param: pre_processed_docs: list of docs, which are tokenized\r\n",
        "        :return: self\r\n",
        "        \"\"\"\r\n",
        "        text_docs = []\r\n",
        "        for doc in docs:\r\n",
        "            text_docs.append(\" \".join(doc))\r\n",
        "\r\n",
        "        tfidf = TfidfVectorizer() # default 1-gram \r\n",
        "        tfidf.fit(text_docs)  # must be list of text string\r\n",
        "\r\n",
        "        # if a word was never seen - it must be at least as infrequent\r\n",
        "        # as any of the known words - so the default idf is the max of\r\n",
        "        # known idf's\r\n",
        "        max_idf = max(tfidf.idf_)  # used as default value for defaultdict\r\n",
        "        self.word_idf_weight = defaultdict(lambda: max_idf,\r\n",
        "                                           [(word, tfidf.idf_[i]) for word, i in tfidf.vocabulary_.items()])\r\n",
        "        return self\r\n",
        "\r\n",
        "    def transform(self, docs):  # comply with scikit-learn transformer requirement\r\n",
        "        doc_word_vector = self.word_average_list(docs)\r\n",
        "        return doc_word_vector\r\n",
        "\r\n",
        "    def word_average(self, sent):\r\n",
        "        \"\"\"\r\n",
        "        Compute average word vector for a single doc/sentence.\r\n",
        "        :param sent: list of sentence tokens\r\n",
        "        :return:\r\n",
        "            mean: float of averaging word vectors\r\n",
        "        \"\"\"\r\n",
        "        mean = []\r\n",
        "        for word in sent:\r\n",
        "            if word in self.word_model.wv.vocab:\r\n",
        "                mean.append(self.word_model.wv.get_vector(word) * self.word_idf_weight[word])  # idf weighted\r\n",
        "\r\n",
        "        if not mean:  # empty words\r\n",
        "            # If a text is empty, return a vector of zeros.\r\n",
        "            logging.warning(\"cannot compute average owing to no vector for {}\".format(sent))\r\n",
        "            return np.zeros(self.vector_size)\r\n",
        "        else:\r\n",
        "            mean = np.array(mean).mean(axis=0)\r\n",
        "            return mean\r\n",
        "\r\n",
        "    def word_average_list(self, docs):\r\n",
        "        \"\"\"\r\n",
        "        Compute average word vector for multiple docs, where docs had been tokenized.\r\n",
        "        :param docs: list of sentence in list of separated tokens\r\n",
        "        :return:\r\n",
        "            array of average word vector in shape (len(docs),)\r\n",
        "        \"\"\"\r\n",
        "        return np.vstack([self.word_average(sent) for sent in docs])"
      ],
      "outputs": [],
      "metadata": {
        "id": "wgknETekRL-8"
      }
    },
    {
      "cell_type": "code",
      "execution_count": null,
      "source": [
        "pickle_output = open('word_vectorizer.pkl', 'wb')\r\n",
        "pickle.dump(TfidfEmbeddingVectorizer, pickle_output)\r\n",
        "pickle_output.close()"
      ],
      "outputs": [],
      "metadata": {
        "id": "zXniTqFo072A"
      }
    },
    {
      "cell_type": "code",
      "execution_count": null,
      "source": [
        "train_token = train['processed_text']\r\n",
        "test_token = test['processed_text']\r\n",
        "\r\n",
        "X = train_token.append(test_token)\r\n",
        "X = X.reset_index(drop=True)"
      ],
      "outputs": [],
      "metadata": {
        "id": "3kq4eXyDRRH-"
      }
    },
    {
      "cell_type": "code",
      "execution_count": null,
      "source": [
        "tfidf_vec_tr = TfidfEmbeddingVectorizer(word2vec)\r\n",
        "\r\n",
        "# fit tfidf model\r\n",
        "tfidf_vec_tr.fit(X)\r\n",
        "tfidf_doc_vec = tfidf_vec_tr.transform(X)"
      ],
      "outputs": [],
      "metadata": {
        "id": "t6Sn0bwVXzyg"
      }
    },
    {
      "cell_type": "markdown",
      "source": [
        "## Classification"
      ],
      "metadata": {
        "id": "MMX-RL3lYofA"
      }
    },
    {
      "cell_type": "markdown",
      "source": [
        "### Word Embedding + TF-IDF"
      ],
      "metadata": {
        "id": "EqVFO46jYvwR"
      }
    },
    {
      "cell_type": "code",
      "execution_count": null,
      "source": [
        "scaler = StandardScaler()\r\n",
        "tfidf_doc_vec_scaled = scaler.fit_transform(tfidf_doc_vec)"
      ],
      "outputs": [],
      "metadata": {
        "id": "ysaN2QfvYrFu"
      }
    },
    {
      "cell_type": "code",
      "execution_count": null,
      "source": [
        "X_train = tfidf_doc_vec[:len(train)]\r\n",
        "y_train = train['label']\r\n",
        "\r\n",
        "X_test = tfidf_doc_vec[len(train):]\r\n",
        "y_test = test['label']"
      ],
      "outputs": [],
      "metadata": {
        "id": "34hdBciZZDG5"
      }
    },
    {
      "cell_type": "code",
      "execution_count": null,
      "source": [
        "clf_dict = {'log reg': LogisticRegression(random_state=42), \r\n",
        "            'naive bayes': GaussianNB(), \r\n",
        "            'linear svc': LinearSVC(random_state=42),\r\n",
        "            'sgd classifier': SGDClassifier(random_state=42),\r\n",
        "            'ada boost': AdaBoostClassifier(n_estimators=100, random_state=42),\r\n",
        "            'gradient boosting': GradientBoostingClassifier(n_estimators=100, random_state=42),\r\n",
        "            'CART': DecisionTreeClassifier(random_state=42),\r\n",
        "            'random forest': RandomForestClassifier(n_estimators=100, random_state=42),\r\n",
        "            'KNN': KNeighborsClassifier()}"
      ],
      "outputs": [],
      "metadata": {
        "id": "d87B6hPqZKtW"
      }
    },
    {
      "cell_type": "code",
      "execution_count": null,
      "source": [
        "for name, clf in clf_dict.items():\r\n",
        "    model = clf.fit(X_train, y_train)\r\n",
        "    y_pred = model.predict(X_test)\r\n",
        "    print('Accuracy of {}:'.format(name), accuracy_score(y_pred, y_test))"
      ],
      "outputs": [
        {
          "output_type": "stream",
          "name": "stdout",
          "text": [
            "Accuracy of log reg: 0.7496503496503496\n",
            "Accuracy of naive bayes: 0.6503496503496503\n",
            "Accuracy of linear svc: 0.7342657342657343\n",
            "Accuracy of sgd classifier: 0.676923076923077\n",
            "Accuracy of ada boost: 0.6853146853146853\n",
            "Accuracy of gradient boosting: 0.7342657342657343\n",
            "Accuracy of CART: 0.6405594405594406\n",
            "Accuracy of random forest: 0.7146853146853147\n",
            "Accuracy of KNN: 0.6559440559440559\n"
          ]
        }
      ],
      "metadata": {
        "colab": {
          "base_uri": "https://localhost:8080/"
        },
        "id": "HJFgi_JraS3F",
        "outputId": "a10f2d9b-24d6-4fd4-f651-de63a7ef302f"
      }
    },
    {
      "cell_type": "markdown",
      "source": [
        "#### Evaluate log reg"
      ],
      "metadata": {
        "id": "wDhBV2g8dC1H"
      }
    },
    {
      "cell_type": "code",
      "execution_count": null,
      "source": [
        "clf = LogisticRegression(random_state=0).fit(X_train, y_train)\r\n",
        "y_pred = clf.predict(X_test)\r\n",
        "accuracy_score(y_test, y_pred)"
      ],
      "outputs": [
        {
          "output_type": "execute_result",
          "data": {
            "text/plain": [
              "0.7496503496503496"
            ]
          },
          "metadata": {
            "tags": []
          },
          "execution_count": 31
        }
      ],
      "metadata": {
        "colab": {
          "base_uri": "https://localhost:8080/"
        },
        "id": "Qf0Z0LO1cuTk",
        "outputId": "8303bf26-b01f-4716-e235-eb6e49d6f57e"
      }
    },
    {
      "cell_type": "code",
      "execution_count": null,
      "source": [
        "# Confusion Matrix\r\n",
        "cm = confusion_matrix(y_test, y_pred)\r\n",
        "\r\n",
        "df_cm = pd.DataFrame(cm, index = [i for i in \"01\"], columns = [i for i in \"01\"])\r\n",
        "plt.figure(figsize = (5, 3))\r\n",
        "sns.heatmap(df_cm, annot=True, cmap='Blues', fmt='g')"
      ],
      "outputs": [
        {
          "output_type": "execute_result",
          "data": {
            "text/plain": [
              "<matplotlib.axes._subplots.AxesSubplot at 0x7fd23351ca50>"
            ]
          },
          "metadata": {
            "tags": []
          },
          "execution_count": 32
        },
        {
          "output_type": "display_data",
          "data": {
            "text/plain": [
              "<Figure size 360x216 with 2 Axes>"
            ],
            "image/png": "[encoded data removed]"
          },
          "metadata": {
            "tags": [],
            "needs_background": "light"
          }
        }
      ],
      "metadata": {
        "colab": {
          "base_uri": "https://localhost:8080/",
          "height": 228
        },
        "id": "FTX8hY5Kcwj8",
        "outputId": "c0f5f8c2-db99-412b-a2f2-51700f74427c"
      }
    },
    {
      "cell_type": "code",
      "execution_count": null,
      "source": [
        "print('Precision', precision_score(y_test, y_pred))\r\n",
        "print('Recall', recall_score(y_test, y_pred))\r\n",
        "print('F1-Score', f1_score(y_test, y_pred))"
      ],
      "outputs": [
        {
          "output_type": "stream",
          "name": "stdout",
          "text": [
            "Precision 0.7386934673366834\n",
            "Recall 0.7967479674796748\n",
            "F1-Score 0.7666232073011734\n"
          ]
        }
      ],
      "metadata": {
        "colab": {
          "base_uri": "https://localhost:8080/"
        },
        "id": "Dqha0TLmc4FC",
        "outputId": "51a851fa-2829-4f44-8690-4c4a14a6d1e8"
      }
    },
    {
      "cell_type": "markdown",
      "source": [
        "#### Evaluate radom forest"
      ],
      "metadata": {
        "id": "hUDGVgHadJCm"
      }
    },
    {
      "cell_type": "code",
      "execution_count": null,
      "source": [
        "clf = RandomForestClassifier(random_state=0).fit(X_train, y_train)\r\n",
        "y_pred = clf.predict(X_test)\r\n",
        "accuracy_score(y_test, y_pred)"
      ],
      "outputs": [
        {
          "output_type": "execute_result",
          "data": {
            "text/plain": [
              "0.7202797202797203"
            ]
          },
          "metadata": {
            "tags": []
          },
          "execution_count": 34
        }
      ],
      "metadata": {
        "colab": {
          "base_uri": "https://localhost:8080/"
        },
        "id": "TgL3oaOtcHuX",
        "outputId": "f932390f-0f20-4025-de02-efbb88004fa2"
      }
    },
    {
      "cell_type": "code",
      "execution_count": null,
      "source": [
        "pickle_output = open('word_embedding_rf.pkl', 'wb')\r\n",
        "pickle.dump(clf, pickle_output)\r\n",
        "pickle_output.close()"
      ],
      "outputs": [],
      "metadata": {
        "id": "X6IHZ7_W1fqR"
      }
    },
    {
      "cell_type": "code",
      "execution_count": null,
      "source": [
        "# Confusion Matrix\r\n",
        "cm = confusion_matrix(y_test, y_pred)\r\n",
        "\r\n",
        "df_cm = pd.DataFrame(cm, index = [i for i in \"01\"], columns = [i for i in \"01\"])\r\n",
        "plt.figure(figsize = (5, 3))\r\n",
        "sns.heatmap(df_cm, annot=True, cmap='Blues', fmt='g')"
      ],
      "outputs": [
        {
          "output_type": "execute_result",
          "data": {
            "text/plain": [
              "<matplotlib.axes._subplots.AxesSubplot at 0x7fd23352a410>"
            ]
          },
          "metadata": {
            "tags": []
          },
          "execution_count": 37
        },
        {
          "output_type": "display_data",
          "data": {
            "text/plain": [
              "<Figure size 360x216 with 2 Axes>"
            ],
            "image/png": "[encoded data removed]"
          },
          "metadata": {
            "tags": [],
            "needs_background": "light"
          }
        }
      ],
      "metadata": {
        "colab": {
          "base_uri": "https://localhost:8080/",
          "height": 229
        },
        "id": "PQiGI_D6cQrJ",
        "outputId": "4387be75-2263-4b42-8cc8-81203545a08a"
      }
    },
    {
      "cell_type": "code",
      "execution_count": null,
      "source": [
        "print('Precision', precision_score(y_test, y_pred))\r\n",
        "print('Recall', recall_score(y_test, y_pred))\r\n",
        "print('F1-Score', f1_score(y_test, y_pred))"
      ],
      "outputs": [
        {
          "output_type": "stream",
          "name": "stdout",
          "text": [
            "Precision 0.6924829157175398\n",
            "Recall 0.8238482384823849\n",
            "F1-Score 0.7524752475247525\n"
          ]
        }
      ],
      "metadata": {
        "colab": {
          "base_uri": "https://localhost:8080/"
        },
        "id": "IvcQM3sIcYTg",
        "outputId": "47219c97-bf8a-4841-e1f3-ee8fe1aaba88"
      }
    },
    {
      "cell_type": "markdown",
      "source": [
        "# Stress Analyze for serving"
      ],
      "metadata": {
        "id": "LS6Hn7_7eCtP"
      }
    },
    {
      "cell_type": "code",
      "execution_count": null,
      "source": [
        "# Data preprocessing\r\n",
        "from tqdm import tqdm\r\n",
        "\r\n",
        "class Posts:\r\n",
        "    def __init__(self, text_df):\r\n",
        "        self.text_df = text_df\r\n",
        "        return\r\n",
        "\r\n",
        "    def tokenization(self):\r\n",
        "        tqdm.pandas()\r\n",
        "        tokenizer = RegexpTokenizer(r'[a-zA-Z]{2,}')\r\n",
        "        tokens_df = self.text_df.progress_apply(lambda x: tokenizer.tokenize(x.lower()))\r\n",
        "        return tokens_df\r\n",
        "\r\n",
        "    def remove_stopwords(self, tokens):\r\n",
        "        words = [w for w in tokens if w not in stopwords.words('english')]\r\n",
        "        return words\r\n",
        "\r\n",
        "    def word_lemmatizer(self, tokens):\r\n",
        "        lemmatizer = WordNetLemmatizer()\r\n",
        "        lem_text = [lemmatizer.lemmatize(i) for i in tokens]\r\n",
        "        return lem_text\r\n",
        "\r\n",
        "    def preprocess(self):\r\n",
        "        tokens = self.tokenization()\r\n",
        "        tokens_sw = tokens.progress_apply(lambda x: self.remove_stopwords(x))\r\n",
        "        final_tokens = tokens_sw.progress_apply(lambda x: self.word_lemmatizer(x))\r\n",
        "        return final_tokens"
      ],
      "outputs": [],
      "metadata": {
        "id": "Igb2FfQteQvF"
      }
    },
    {
      "cell_type": "code",
      "execution_count": null,
      "source": [
        "# Word2Vec + TF-IDF\n",
        "from collections import defaultdict\n",
        "from gensim.test.utils import common_texts\n",
        "\n",
        "class WordEmbeddingVectorizer(object):\n",
        "    def __init__(self, word_model):\n",
        "        self.word_model = word_model\n",
        "        self.word_idf_weight = None\n",
        "        self.vector_size = word_model.wv.vector_size\n",
        "\n",
        "    def fit(self, texts):\n",
        "        text_docs = []\n",
        "        for text in texts:\n",
        "            text_docs.append(\" \".join(text))\n",
        "\n",
        "        tfidf = TfidfVectorizer(stop_words='english', ngram_range=(1,1))\n",
        "        tfidf.fit(text_docs)\n",
        "        max_idf = max(tfidf.idf_)\n",
        "        self.word_idf_weight = defaultdict(lambda: max_idf,\n",
        "                                           [(word, tfidf.idf_[i]) for word, i in tfidf.vocabulary_.items()])\n",
        "        return self\n",
        "\n",
        "    def transform(self, texts):\n",
        "        text_word_vector = self.word_average_list(texts)\n",
        "        return text_word_vector\n",
        "\n",
        "    def word_average(self, sent):\n",
        "        mean = []\n",
        "        for word in sent:\n",
        "            if word in self.word_model.wv.vocab:\n",
        "                mean.append(self.word_model.wv.get_vector(word) * self.word_idf_weight[word])\n",
        "\n",
        "        if not mean:\n",
        "            logging.warning(\"cannot compute average owing to no vector for {}\".format(sent))\n",
        "            return np.zeros(self.vector_size)\n",
        "        else:\n",
        "            mean = np.array(mean).mean(axis=0)\n",
        "            return mean\n",
        "\n",
        "    def word_average_list(self, docs):\n",
        "        return np.vstack([self.word_average(sent) for sent in docs])"
      ],
      "outputs": [],
      "metadata": {
        "id": "d5CNAH0QeWCS"
      }
    },
    {
      "cell_type": "code",
      "execution_count": null,
      "source": [
        "def preprocess(series):\n",
        "  preprocess_series = Posts(series).preprocess()\n",
        "  print(preprocess_series)\n",
        "  word_embedding_rf = WordEmbeddingVectorizer(word2vec)\n",
        "  input_matrix = word_embedding_rf.fit(preprocess_series).transform(preprocess_series)\n",
        "  return input_matrix"
      ],
      "outputs": [],
      "metadata": {
        "id": "fsLkIiLuebdL"
      }
    },
    {
      "cell_type": "code",
      "execution_count": null,
      "source": [
        "def predict(series):\n",
        "  input_matrix = preprocess(pd.Series(series))\n",
        "  pred_labels = clf.predict(input_matrix)\n",
        "  print(pred_labels)\n",
        "  pred_proba = clf.predict_proba(input_matrix)\n",
        "  print(pred_proba)\n",
        "  confidence_score = [prob[1] for prob in pred_proba]\n",
        "  output = pd.DataFrame({'text': series, 'confidence_score': confidence_score, 'labels': pred_labels})\n",
        "  output['labels'] = output['labels'].map({1: 'stress', 0: 'non-stress'})\n",
        "  return output"
      ],
      "outputs": [],
      "metadata": {
        "id": "sKpB7lSieb26"
      }
    },
    {
      "cell_type": "code",
      "execution_count": null,
      "source": [
        "predict([\"I am very happy today\", \"It's friday, wish you have a nice weekend\", \"I feel bad since yesterday\", \"I feel happy today\", \"I am unhappy today\"])"
      ],
      "outputs": [
        {
          "output_type": "stream",
          "name": "stderr",
          "text": [
            "100%|██████████| 5/5 [00:00<00:00, 1991.98it/s]\n",
            "100%|██████████| 5/5 [00:00<00:00, 1131.21it/s]\n",
            "100%|██████████| 5/5 [00:00<00:00, 3391.80it/s]"
          ]
        },
        {
          "output_type": "stream",
          "name": "stdout",
          "text": [
            "0                   [happy, today]\n",
            "1    [friday, wish, nice, weekend]\n",
            "2    [feel, bad, since, yesterday]\n",
            "3             [feel, happy, today]\n",
            "4                 [unhappy, today]\n",
            "dtype: object\n",
            "[0 0 1 1 0]\n",
            "[[0.58 0.42]\n",
            " [0.74 0.26]\n",
            " [0.24 0.76]\n",
            " [0.36 0.64]\n",
            " [0.58 0.42]]\n"
          ]
        },
        {
          "output_type": "stream",
          "name": "stderr",
          "text": [
            "\n"
          ]
        },
        {
          "output_type": "execute_result",
          "data": {
            "text/plain": [
              "                                        text  confidence_score      labels\n",
              "0                      I am very happy today              0.42  non-stress\n",
              "1  It's friday, wish you have a nice weekend              0.26  non-stress\n",
              "2                 I feel bad since yesterday              0.76      stress\n",
              "3                         I feel happy today              0.64      stress\n",
              "4                         I am unhappy today              0.42  non-stress"
            ],
            "text/html": [
              "<div>\n",
              "<style scoped>\n",
              "    .dataframe tbody tr th:only-of-type {\n",
              "        vertical-align: middle;\n",
              "    }\n",
              "\n",
              "    .dataframe tbody tr th {\n",
              "        vertical-align: top;\n",
              "    }\n",
              "\n",
              "    .dataframe thead th {\n",
              "        text-align: right;\n",
              "    }\n",
              "</style>\n",
              "<table border=\"1\" class=\"dataframe\">\n",
              "  <thead>\n",
              "    <tr style=\"text-align: right;\">\n",
              "      <th></th>\n",
              "      <th>text</th>\n",
              "      <th>confidence_score</th>\n",
              "      <th>labels</th>\n",
              "    </tr>\n",
              "  </thead>\n",
              "  <tbody>\n",
              "    <tr>\n",
              "      <th>0</th>\n",
              "      <td>I am very happy today</td>\n",
              "      <td>0.42</td>\n",
              "      <td>non-stress</td>\n",
              "    </tr>\n",
              "    <tr>\n",
              "      <th>1</th>\n",
              "      <td>It's friday, wish you have a nice weekend</td>\n",
              "      <td>0.26</td>\n",
              "      <td>non-stress</td>\n",
              "    </tr>\n",
              "    <tr>\n",
              "      <th>2</th>\n",
              "      <td>I feel bad since yesterday</td>\n",
              "      <td>0.76</td>\n",
              "      <td>stress</td>\n",
              "    </tr>\n",
              "    <tr>\n",
              "      <th>3</th>\n",
              "      <td>I feel happy today</td>\n",
              "      <td>0.64</td>\n",
              "      <td>stress</td>\n",
              "    </tr>\n",
              "    <tr>\n",
              "      <th>4</th>\n",
              "      <td>I am unhappy today</td>\n",
              "      <td>0.42</td>\n",
              "      <td>non-stress</td>\n",
              "    </tr>\n",
              "  </tbody>\n",
              "</table>\n",
              "</div>"
            ]
          },
          "metadata": {
            "tags": []
          },
          "execution_count": 45
        }
      ],
      "metadata": {
        "colab": {
          "base_uri": "https://localhost:8080/",
          "height": 459
        },
        "id": "smUD2Lr7edtj",
        "outputId": "3bc1a449-7398-47c2-a272-f52207a7c75b"
      }
    }
  ]
}